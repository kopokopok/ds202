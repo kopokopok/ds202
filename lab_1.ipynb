{
 "cells": [
  {
   "cell_type": "markdown",
   "metadata": {
    "colab_type": "text",
    "id": "view-in-github"
   },
   "source": [
    "<a href=\"https://colab.research.google.com/github/kopokopok/ds202/blob/main/lab_1.ipynb\" target=\"_parent\"><img src=\"https://colab.research.google.com/assets/colab-badge.svg\" alt=\"Open In Colab\"/></a>"
   ]
  },
  {
   "cell_type": "markdown",
   "metadata": {
    "id": "355LmyCRd_sZ"
   },
   "source": [
    "# Lab 1: ProPublica's Analysis of the COMPAS Tool\n",
    "\n",
    "In 2016, [ProPublica published an analysis](https://www.propublica.org/article/machine-bias-risk-assessments-in-criminal-sentencing) of the Correctional Offender Management Profiling for Alternative Sanctions (COMPAS) tool. COMPAS is a proprietary tool which generates a so-called risk assessment for defendants in a criminal trial. ProPublica's analysis focused on the \"recidivism score,\" which purports to provide the likelihood of recidivism (i.e. committing a misdemeanor of felony) within two years of assessment.\n",
    "\n",
    "In this lab, we will go through parts of ProPublica's analysis of COMPAS, focusing on how the recidivism risk scale varies by race and sex.\n",
    "\n",
    "This notebook has four stages in which we will:\n",
    "1. Import the data, implement a few pre-processing steps, and inspect the data\n",
    "2. Run a short exploratory analysis of the COMPAS recidivism score, our primary variable of interest\n",
    "3. Reproduce the logistic regression model in ProPublica's analysis and interpret the estimates\n",
    "4. Compute the predictive accuracy of the risk score labels"
   ]
  },
  {
   "cell_type": "markdown",
   "metadata": {
    "id": "pdeHvX_6woJg"
   },
   "source": [
    "# Packages and Modules"
   ]
  },
  {
   "cell_type": "markdown",
   "metadata": {
    "id": "lI_-xUcTnhv3"
   },
   "source": [
    "You may need to install the following packages:\n",
    "\n",
    "\n"
   ]
  },
  {
   "cell_type": "code",
   "execution_count": 1,
   "metadata": {
    "colab": {
     "base_uri": "https://localhost:8080/"
    },
    "id": "OgzPfEeYl28y",
    "outputId": "c8a0a778-3d23-4022-ac55-8ff2fa0ea011"
   },
   "outputs": [
    {
     "name": "stdout",
     "output_type": "stream",
     "text": [
      "Requirement already satisfied: pandas in /home/mzhou/.local/lib/python3.8/site-packages (1.3.3)\n",
      "Requirement already satisfied: numpy in /home/mzhou/.local/lib/python3.8/site-packages (1.21.2)\n",
      "Requirement already satisfied: statsmodels in /home/mzhou/.local/lib/python3.8/site-packages (0.13.1)\n",
      "Requirement already satisfied: matplotlib in /home/mzhou/.local/lib/python3.8/site-packages (3.4.3)\n",
      "Requirement already satisfied: seaborn in /home/mzhou/.local/lib/python3.8/site-packages (0.11.2)\n",
      "Requirement already satisfied: pytz>=2017.3 in /home/mzhou/.local/lib/python3.8/site-packages (from pandas) (2021.3)\n",
      "Requirement already satisfied: python-dateutil>=2.7.3 in /home/mzhou/.local/lib/python3.8/site-packages (from pandas) (2.8.2)\n",
      "Requirement already satisfied: patsy>=0.5.2 in /home/mzhou/.local/lib/python3.8/site-packages (from statsmodels) (0.5.2)\n",
      "Requirement already satisfied: scipy>=1.3 in /home/mzhou/.local/lib/python3.8/site-packages (from statsmodels) (1.7.3)\n",
      "Requirement already satisfied: pyparsing>=2.2.1 in /home/mzhou/.local/lib/python3.8/site-packages (from matplotlib) (2.4.7)\n",
      "Requirement already satisfied: cycler>=0.10 in /home/mzhou/.local/lib/python3.8/site-packages (from matplotlib) (0.10.0)\n",
      "Requirement already satisfied: pillow>=6.2.0 in /home/mzhou/.local/lib/python3.8/site-packages (from matplotlib) (8.3.2)\n",
      "Requirement already satisfied: kiwisolver>=1.0.1 in /home/mzhou/.local/lib/python3.8/site-packages (from matplotlib) (1.3.2)\n",
      "Requirement already satisfied: six>=1.5 in /usr/lib/python3/dist-packages (from python-dateutil>=2.7.3->pandas) (1.14.0)\n",
      "Note: you may need to restart the kernel to use updated packages.\n"
     ]
    }
   ],
   "source": [
    "%pip install pandas numpy statsmodels matplotlib seaborn"
   ]
  },
  {
   "cell_type": "markdown",
   "metadata": {
    "id": "UmvEsKCOTIV-"
   },
   "source": [
    "Import the packages and modules:\n"
   ]
  },
  {
   "cell_type": "code",
   "execution_count": 2,
   "metadata": {
    "colab": {
     "base_uri": "https://localhost:8080/"
    },
    "id": "hWQEryWrr7qH",
    "outputId": "4dd87d0d-9407-4cfb-efe1-c1b368bbc964"
   },
   "outputs": [],
   "source": [
    "import math\n",
    "import pandas as pd\n",
    "import numpy as np\n",
    "import statsmodels.api as sm\n",
    "import matplotlib\n",
    "import matplotlib.pyplot as plt\n",
    "%matplotlib inline\n",
    "import seaborn as sns"
   ]
  },
  {
   "cell_type": "markdown",
   "metadata": {
    "id": "qJDFA9XSwdMi"
   },
   "source": [
    "# Load Data\n",
    "\n",
    "Import the data from ProPublica's compas-analysis repository on GitHub and check the first few rows:"
   ]
  },
  {
   "cell_type": "code",
   "execution_count": 3,
   "metadata": {
    "colab": {
     "base_uri": "https://localhost:8080/",
     "height": 421
    },
    "id": "O5B1icC-sbBg",
    "outputId": "b93e6cd6-2878-4774-f4b9-9901da063c46"
   },
   "outputs": [
    {
     "name": "stdout",
     "output_type": "stream",
     "text": [
      "Shape:  (7214, 53)\n"
     ]
    },
    {
     "data": {
      "text/html": [
       "<div>\n",
       "<style scoped>\n",
       "    .dataframe tbody tr th:only-of-type {\n",
       "        vertical-align: middle;\n",
       "    }\n",
       "\n",
       "    .dataframe tbody tr th {\n",
       "        vertical-align: top;\n",
       "    }\n",
       "\n",
       "    .dataframe thead th {\n",
       "        text-align: right;\n",
       "    }\n",
       "</style>\n",
       "<table border=\"1\" class=\"dataframe\">\n",
       "  <thead>\n",
       "    <tr style=\"text-align: right;\">\n",
       "      <th></th>\n",
       "      <th>id</th>\n",
       "      <th>name</th>\n",
       "      <th>first</th>\n",
       "      <th>last</th>\n",
       "      <th>compas_screening_date</th>\n",
       "      <th>sex</th>\n",
       "      <th>dob</th>\n",
       "      <th>age</th>\n",
       "      <th>age_cat</th>\n",
       "      <th>race</th>\n",
       "      <th>...</th>\n",
       "      <th>v_decile_score</th>\n",
       "      <th>v_score_text</th>\n",
       "      <th>v_screening_date</th>\n",
       "      <th>in_custody</th>\n",
       "      <th>out_custody</th>\n",
       "      <th>priors_count.1</th>\n",
       "      <th>start</th>\n",
       "      <th>end</th>\n",
       "      <th>event</th>\n",
       "      <th>two_year_recid</th>\n",
       "    </tr>\n",
       "  </thead>\n",
       "  <tbody>\n",
       "    <tr>\n",
       "      <th>0</th>\n",
       "      <td>1</td>\n",
       "      <td>miguel hernandez</td>\n",
       "      <td>miguel</td>\n",
       "      <td>hernandez</td>\n",
       "      <td>2013-08-14</td>\n",
       "      <td>Male</td>\n",
       "      <td>1947-04-18</td>\n",
       "      <td>69</td>\n",
       "      <td>Greater than 45</td>\n",
       "      <td>Other</td>\n",
       "      <td>...</td>\n",
       "      <td>1</td>\n",
       "      <td>Low</td>\n",
       "      <td>2013-08-14</td>\n",
       "      <td>2014-07-07</td>\n",
       "      <td>2014-07-14</td>\n",
       "      <td>0</td>\n",
       "      <td>0</td>\n",
       "      <td>327</td>\n",
       "      <td>0</td>\n",
       "      <td>0</td>\n",
       "    </tr>\n",
       "    <tr>\n",
       "      <th>1</th>\n",
       "      <td>3</td>\n",
       "      <td>kevon dixon</td>\n",
       "      <td>kevon</td>\n",
       "      <td>dixon</td>\n",
       "      <td>2013-01-27</td>\n",
       "      <td>Male</td>\n",
       "      <td>1982-01-22</td>\n",
       "      <td>34</td>\n",
       "      <td>25 - 45</td>\n",
       "      <td>African-American</td>\n",
       "      <td>...</td>\n",
       "      <td>1</td>\n",
       "      <td>Low</td>\n",
       "      <td>2013-01-27</td>\n",
       "      <td>2013-01-26</td>\n",
       "      <td>2013-02-05</td>\n",
       "      <td>0</td>\n",
       "      <td>9</td>\n",
       "      <td>159</td>\n",
       "      <td>1</td>\n",
       "      <td>1</td>\n",
       "    </tr>\n",
       "    <tr>\n",
       "      <th>2</th>\n",
       "      <td>4</td>\n",
       "      <td>ed philo</td>\n",
       "      <td>ed</td>\n",
       "      <td>philo</td>\n",
       "      <td>2013-04-14</td>\n",
       "      <td>Male</td>\n",
       "      <td>1991-05-14</td>\n",
       "      <td>24</td>\n",
       "      <td>Less than 25</td>\n",
       "      <td>African-American</td>\n",
       "      <td>...</td>\n",
       "      <td>3</td>\n",
       "      <td>Low</td>\n",
       "      <td>2013-04-14</td>\n",
       "      <td>2013-06-16</td>\n",
       "      <td>2013-06-16</td>\n",
       "      <td>4</td>\n",
       "      <td>0</td>\n",
       "      <td>63</td>\n",
       "      <td>0</td>\n",
       "      <td>1</td>\n",
       "    </tr>\n",
       "    <tr>\n",
       "      <th>3</th>\n",
       "      <td>5</td>\n",
       "      <td>marcu brown</td>\n",
       "      <td>marcu</td>\n",
       "      <td>brown</td>\n",
       "      <td>2013-01-13</td>\n",
       "      <td>Male</td>\n",
       "      <td>1993-01-21</td>\n",
       "      <td>23</td>\n",
       "      <td>Less than 25</td>\n",
       "      <td>African-American</td>\n",
       "      <td>...</td>\n",
       "      <td>6</td>\n",
       "      <td>Medium</td>\n",
       "      <td>2013-01-13</td>\n",
       "      <td>NaN</td>\n",
       "      <td>NaN</td>\n",
       "      <td>1</td>\n",
       "      <td>0</td>\n",
       "      <td>1174</td>\n",
       "      <td>0</td>\n",
       "      <td>0</td>\n",
       "    </tr>\n",
       "    <tr>\n",
       "      <th>4</th>\n",
       "      <td>6</td>\n",
       "      <td>bouthy pierrelouis</td>\n",
       "      <td>bouthy</td>\n",
       "      <td>pierrelouis</td>\n",
       "      <td>2013-03-26</td>\n",
       "      <td>Male</td>\n",
       "      <td>1973-01-22</td>\n",
       "      <td>43</td>\n",
       "      <td>25 - 45</td>\n",
       "      <td>Other</td>\n",
       "      <td>...</td>\n",
       "      <td>1</td>\n",
       "      <td>Low</td>\n",
       "      <td>2013-03-26</td>\n",
       "      <td>NaN</td>\n",
       "      <td>NaN</td>\n",
       "      <td>2</td>\n",
       "      <td>0</td>\n",
       "      <td>1102</td>\n",
       "      <td>0</td>\n",
       "      <td>0</td>\n",
       "    </tr>\n",
       "  </tbody>\n",
       "</table>\n",
       "<p>5 rows × 53 columns</p>\n",
       "</div>"
      ],
      "text/plain": [
       "   id                name   first         last compas_screening_date   sex  \\\n",
       "0   1    miguel hernandez  miguel    hernandez            2013-08-14  Male   \n",
       "1   3         kevon dixon   kevon        dixon            2013-01-27  Male   \n",
       "2   4            ed philo      ed        philo            2013-04-14  Male   \n",
       "3   5         marcu brown   marcu        brown            2013-01-13  Male   \n",
       "4   6  bouthy pierrelouis  bouthy  pierrelouis            2013-03-26  Male   \n",
       "\n",
       "          dob  age          age_cat              race  ...  v_decile_score  \\\n",
       "0  1947-04-18   69  Greater than 45             Other  ...               1   \n",
       "1  1982-01-22   34          25 - 45  African-American  ...               1   \n",
       "2  1991-05-14   24     Less than 25  African-American  ...               3   \n",
       "3  1993-01-21   23     Less than 25  African-American  ...               6   \n",
       "4  1973-01-22   43          25 - 45             Other  ...               1   \n",
       "\n",
       "   v_score_text  v_screening_date  in_custody  out_custody  priors_count.1  \\\n",
       "0           Low        2013-08-14  2014-07-07   2014-07-14               0   \n",
       "1           Low        2013-01-27  2013-01-26   2013-02-05               0   \n",
       "2           Low        2013-04-14  2013-06-16   2013-06-16               4   \n",
       "3        Medium        2013-01-13         NaN          NaN               1   \n",
       "4           Low        2013-03-26         NaN          NaN               2   \n",
       "\n",
       "  start   end event two_year_recid  \n",
       "0     0   327     0              0  \n",
       "1     9   159     1              1  \n",
       "2     0    63     0              1  \n",
       "3     0  1174     0              0  \n",
       "4     0  1102     0              0  \n",
       "\n",
       "[5 rows x 53 columns]"
      ]
     },
     "execution_count": 3,
     "metadata": {},
     "output_type": "execute_result"
    }
   ],
   "source": [
    "url = \"https://raw.githubusercontent.com/propublica/compas-analysis/master/compas-scores-two-years.csv\"\n",
    "df_compas = pd.read_csv(url)\n",
    "print(\"Shape: \", df_compas.shape)\n",
    "df_compas.head(5)"
   ]
  },
  {
   "cell_type": "markdown",
   "metadata": {
    "id": "JI0slRqXFyXZ"
   },
   "source": [
    "## Notes on the Data\n",
    "\n",
    "Refer to the description of the [data collection methodology](https://www.propublica.org/article/how-we-analyzed-the-compas-recidivism-algorithm). Salient points are highlighted below; see the full description from ProPublica for additional details.\n",
    "\n",
    "> **Goal:** We looked at more than 10,000 criminal defendants in Broward County, Florida, and compared their predicted recidivism rates with the rate that actually occurred over a two-year period.\n",
    ">\n",
    "> **COMPAS tool input (data subjects):** When most defendants are booked in jail, they respond to a COMPAS questionnaire. Their answers are fed into the COMPAS software to generate several scores including predictions of Risk of Recidivism and Risk of Violent Recidivism.\n",
    ">\n",
    "> **How COMPAS input was acquired by ProPublica:** Through a public records request, ProPublica obtained two years worth of COMPAS scores from the Broward County Sheriff’s Office in Florida. We received data for all 18,610 people who were scored in 2013 and 2014.\n",
    ">\n",
    "> **COMPAS tool output:** Each pretrial defendant received at least three COMPAS scores: \"Risk of Recidivism,\" \"Risk of Violence\" and \"Risk of Failure to Appear. [...] COMPAS scores for each defendant ranged from 1 to 10, with ten being the highest risk. Scores 1 to 4 were labeled by COMPAS as \"Low;\" 5 to 7 were labeled “Medium;\" and 8 to 10 were labeled “High.”\n",
    ">\n",
    "> **Data integration (record linkage):** Starting with the database of COMPAS scores, we built a profile of each person’s criminal history, both before and after they were scored. We collected public criminal records from the Broward County Clerk’s Office website through April 1, 2016. On average, defendants in our dataset were not incarcerated for 622.87 days (sd: 329.19). We matched the criminal records to the COMPAS records using a person’s first and last names and date of birth. This is the same technique used in the Broward County COMPAS validation study conducted by researchers at Florida State University in 2010. We downloaded around 80,000 criminal records from the Broward County Clerk’s Office website.\n",
    ">\n",
    "> **What is recidivism?** Northpointe defined recidivism as “a finger-printable arrest involving a charge and a filing for any uniform crime reporting (UCR) code.” We interpreted that to mean a criminal offense that resulted in a jail booking and took place after the crime for which the person was COMPAS scored. [...] For most of our analysis, we defined recidivism as a new arrest within two years."
   ]
  },
  {
   "cell_type": "markdown",
   "metadata": {
    "id": "G0xgPnT11OtO"
   },
   "source": [
    "# Inspect Data\n",
    "\n",
    "For convenience, here is a table of variable definitions:\n",
    "\n",
    "| Variable    | Description |\n",
    "| ----------- | ----------- |\n",
    "| age       |  Age of the defendant   |\n",
    "| age_cat   |  Age category. It can be < 25, 25-45, >45    |\n",
    "| sex   |  Sex of the defendant. It is either \"Male\" or \"Female\"       |\n",
    "| race   |  Race of the defendant. It can be \"African-American\", \"Caucasian\", \"Hispanic\", \"Asian\", or \"Other\"      |\n",
    "| c_charge_degree   |   Charge. Either \"M\" for misdemeanor, \"F\" for felony, or \"O\" (not causing jail time)    |\n",
    "| priors_count   |   Count of prior crimes committed by the defendant      |\n",
    "| days_b_screening_arrest   |  Days between the arrest and COMPAS screening       |\n",
    "| decile_score   |  The COMPAS score estimated by the system. It is between 0-10       |\n",
    "| score_text   |  Decile score. It can be \"Low\" (1-4), \"Medium\" (5-7), or \"High\" (8-10)       |\n",
    "| is_recid   |  Indicates if the defendant recidivated. It can be 0, 1, or -1      |\n",
    "| two_year_recid   |  Indicates if the defendant recidivated within two years of COMPAS assessment      |\n",
    "| c_jail_in   |   Date the defendant was in jail      |\n",
    "| c_jail_out  |   Date when the defendant was released from jail     |\n",
    "\n",
    "\\\n",
    "Plot the distribution of age, race, and sex in the imported data (```df_compas```):"
   ]
  },
  {
   "cell_type": "code",
   "execution_count": 4,
   "metadata": {
    "colab": {
     "base_uri": "https://localhost:8080/",
     "height": 906
    },
    "id": "C6lQj5HJVuyw",
    "outputId": "6672cb92-ad49-47b8-86aa-27ac5205cee6"
   },
   "outputs": [
    {
     "data": {
      "image/png": "[encoded data removed]",
      "text/plain": [
       "<Figure size 432x288 with 1 Axes>"
      ]
     },
     "metadata": {
      "needs_background": "light"
     },
     "output_type": "display_data"
    },
    {
     "data": {
      "image/png": "[encoded data removed]",
      "text/plain": [
       "<Figure size 432x288 with 1 Axes>"
      ]
     },
     "metadata": {
      "needs_background": "light"
     },
     "output_type": "display_data"
    },
    {
     "data": {
      "image/png": "[encoded data removed]",
      "text/plain": [
       "<Figure size 432x288 with 1 Axes>"
      ]
     },
     "metadata": {
      "needs_background": "light"
     },
     "output_type": "display_data"
    }
   ],
   "source": [
    "# write code to plot the distribution of age, race, and sex\n",
    "# in this code cell\n",
    "df_compas['age'].hist()\n",
    "plt.xlabel('Age')\n",
    "plt.ylabel('Frequency')\n",
    "plt.show()\n",
    "\n",
    "df_compas['race'].value_counts().plot(kind='bar')\n",
    "plt.xlabel('Race')\n",
    "plt.ylabel('Frequency')\n",
    "plt.show()\n",
    "\n",
    "df_compas['sex'].value_counts().plot(kind='bar')\n",
    "plt.xlabel('Sex')\n",
    "plt.ylabel('Frequency')\n",
    "plt.show()"
   ]
  },
  {
   "cell_type": "markdown",
   "metadata": {
    "id": "q36OxXLfoJxt"
   },
   "source": [
    "# Preprocess Data"
   ]
  },
  {
   "cell_type": "markdown",
   "metadata": {
    "id": "HYL5nnxko0bG"
   },
   "source": [
    "ProPublica implemented a few pre-processing steps. First, they generated a subset of the data with a few variables of interest. Here, we select even fewer variables, keeping only those that we will use in this notebook."
   ]
  },
  {
   "cell_type": "code",
   "execution_count": 5,
   "metadata": {
    "colab": {
     "base_uri": "https://localhost:8080/",
     "height": 221
    },
    "id": "T1qppbDjoRGJ",
    "outputId": "30fda28e-7426-43e0-f26f-b1f0a01120c0"
   },
   "outputs": [
    {
     "name": "stdout",
     "output_type": "stream",
     "text": [
      "Shape:  (7214, 12)\n"
     ]
    },
    {
     "data": {
      "text/html": [
       "<div>\n",
       "<style scoped>\n",
       "    .dataframe tbody tr th:only-of-type {\n",
       "        vertical-align: middle;\n",
       "    }\n",
       "\n",
       "    .dataframe tbody tr th {\n",
       "        vertical-align: top;\n",
       "    }\n",
       "\n",
       "    .dataframe thead th {\n",
       "        text-align: right;\n",
       "    }\n",
       "</style>\n",
       "<table border=\"1\" class=\"dataframe\">\n",
       "  <thead>\n",
       "    <tr style=\"text-align: right;\">\n",
       "      <th></th>\n",
       "      <th>id</th>\n",
       "      <th>age</th>\n",
       "      <th>c_charge_degree</th>\n",
       "      <th>race</th>\n",
       "      <th>age_cat</th>\n",
       "      <th>score_text</th>\n",
       "      <th>sex</th>\n",
       "      <th>priors_count</th>\n",
       "      <th>days_b_screening_arrest</th>\n",
       "      <th>decile_score</th>\n",
       "      <th>is_recid</th>\n",
       "      <th>two_year_recid</th>\n",
       "    </tr>\n",
       "  </thead>\n",
       "  <tbody>\n",
       "    <tr>\n",
       "      <th>0</th>\n",
       "      <td>1</td>\n",
       "      <td>69</td>\n",
       "      <td>F</td>\n",
       "      <td>Other</td>\n",
       "      <td>Greater than 45</td>\n",
       "      <td>Low</td>\n",
       "      <td>Male</td>\n",
       "      <td>0</td>\n",
       "      <td>-1.0</td>\n",
       "      <td>1</td>\n",
       "      <td>0</td>\n",
       "      <td>0</td>\n",
       "    </tr>\n",
       "    <tr>\n",
       "      <th>1</th>\n",
       "      <td>3</td>\n",
       "      <td>34</td>\n",
       "      <td>F</td>\n",
       "      <td>African-American</td>\n",
       "      <td>25 - 45</td>\n",
       "      <td>Low</td>\n",
       "      <td>Male</td>\n",
       "      <td>0</td>\n",
       "      <td>-1.0</td>\n",
       "      <td>3</td>\n",
       "      <td>1</td>\n",
       "      <td>1</td>\n",
       "    </tr>\n",
       "    <tr>\n",
       "      <th>2</th>\n",
       "      <td>4</td>\n",
       "      <td>24</td>\n",
       "      <td>F</td>\n",
       "      <td>African-American</td>\n",
       "      <td>Less than 25</td>\n",
       "      <td>Low</td>\n",
       "      <td>Male</td>\n",
       "      <td>4</td>\n",
       "      <td>-1.0</td>\n",
       "      <td>4</td>\n",
       "      <td>1</td>\n",
       "      <td>1</td>\n",
       "    </tr>\n",
       "    <tr>\n",
       "      <th>3</th>\n",
       "      <td>5</td>\n",
       "      <td>23</td>\n",
       "      <td>F</td>\n",
       "      <td>African-American</td>\n",
       "      <td>Less than 25</td>\n",
       "      <td>High</td>\n",
       "      <td>Male</td>\n",
       "      <td>1</td>\n",
       "      <td>NaN</td>\n",
       "      <td>8</td>\n",
       "      <td>0</td>\n",
       "      <td>0</td>\n",
       "    </tr>\n",
       "    <tr>\n",
       "      <th>4</th>\n",
       "      <td>6</td>\n",
       "      <td>43</td>\n",
       "      <td>F</td>\n",
       "      <td>Other</td>\n",
       "      <td>25 - 45</td>\n",
       "      <td>Low</td>\n",
       "      <td>Male</td>\n",
       "      <td>2</td>\n",
       "      <td>NaN</td>\n",
       "      <td>1</td>\n",
       "      <td>0</td>\n",
       "      <td>0</td>\n",
       "    </tr>\n",
       "  </tbody>\n",
       "</table>\n",
       "</div>"
      ],
      "text/plain": [
       "   id  age c_charge_degree              race          age_cat score_text  \\\n",
       "0   1   69               F             Other  Greater than 45        Low   \n",
       "1   3   34               F  African-American          25 - 45        Low   \n",
       "2   4   24               F  African-American     Less than 25        Low   \n",
       "3   5   23               F  African-American     Less than 25       High   \n",
       "4   6   43               F             Other          25 - 45        Low   \n",
       "\n",
       "    sex  priors_count  days_b_screening_arrest  decile_score  is_recid  \\\n",
       "0  Male             0                     -1.0             1         0   \n",
       "1  Male             0                     -1.0             3         1   \n",
       "2  Male             4                     -1.0             4         1   \n",
       "3  Male             1                      NaN             8         0   \n",
       "4  Male             2                      NaN             1         0   \n",
       "\n",
       "   two_year_recid  \n",
       "0               0  \n",
       "1               1  \n",
       "2               1  \n",
       "3               0  \n",
       "4               0  "
      ]
     },
     "execution_count": 5,
     "metadata": {},
     "output_type": "execute_result"
    }
   ],
   "source": [
    "cols_to_keep = [\"id\", \"age\", \"c_charge_degree\", \"race\", \"age_cat\", \"score_text\",\n",
    "                \"sex\", \"priors_count\", \"days_b_screening_arrest\",\n",
    "                \"decile_score\", \"is_recid\", \"two_year_recid\"]\n",
    "\n",
    "df_selected = df_compas[cols_to_keep].copy()\n",
    "\n",
    "print(\"Shape: \", df_selected.shape)\n",
    "df_selected.head()"
   ]
  },
  {
   "cell_type": "markdown",
   "metadata": {
    "id": "ghZE7FZUpBsQ"
   },
   "source": [
    "Take a moment to get a feel for the variables and structure of the data. ProPublica filtered the above data by removing rows where:\n",
    "\n",
    "1. The COMPAS score is missing.\n",
    "1. The charge date of the defendant's COMPAS-scored crime was not within 30 days from the date of arrest. ProPublica assumed that the offense may not be correct in these cases.\n",
    "2. The recividist flag is \"-1\". In such cases, ProPublica could not find a COMPAS record at all.\n",
    "3. The charge is \"O\". These are ordinary traffic offenses and do not result in jail time.\n",
    "\n",
    "We implement these conditions here:"
   ]
  },
  {
   "cell_type": "code",
   "execution_count": 6,
   "metadata": {
    "id": "3muereQrap8u"
   },
   "outputs": [],
   "source": [
    "df_analysis = df_selected[\n",
    "    (df_selected.score_text != \"N/A\") &\n",
    "    (df_selected.days_b_screening_arrest <= 30) &\n",
    "    (df_selected.days_b_screening_arrest >= -30) &\n",
    "    (df_selected.is_recid != -1) &\n",
    "    (df_selected.c_charge_degree != \"O\")\n",
    "    ].copy()"
   ]
  },
  {
   "cell_type": "markdown",
   "metadata": {
    "id": "wCNlGWB_sBda"
   },
   "source": [
    "Note that ProPublica only included people who had recidivated within two years or had at least two years outside a correctional facility. This pre-processing step is \"baked in\" to the data that we imported from GitHub in this notebook.\n",
    "\n",
    "Check the dimensions (i.e. the number of variables and observations) of the imported (```df_compas```) and preprocessed (```df_analysis```) data:"
   ]
  },
  {
   "cell_type": "code",
   "execution_count": 7,
   "metadata": {
    "colab": {
     "base_uri": "https://localhost:8080/"
    },
    "id": "JJ_MkWKxt1YJ",
    "outputId": "62492b02-f734-4488-a13a-32db4c411f84"
   },
   "outputs": [
    {
     "name": "stdout",
     "output_type": "stream",
     "text": [
      "(7214, 53)\n",
      "(6172, 12)\n"
     ]
    }
   ],
   "source": [
    "# write code to check the number of variables and observations in df_compas\n",
    "# and df_analysis here\n",
    "print(df_compas.shape)\n",
    "print(df_analysis.shape)"
   ]
  },
  {
   "cell_type": "markdown",
   "metadata": {
    "id": "0juptQDv7pDG"
   },
   "source": [
    "Take the additional step of making sure that the decile score (discussed below) is numeric:\n"
   ]
  },
  {
   "cell_type": "code",
   "execution_count": 8,
   "metadata": {
    "id": "xjg2B1s47tJr"
   },
   "outputs": [],
   "source": [
    "df_analysis[\"decile_score\"] = pd.to_numeric(df_analysis[\"decile_score\"])"
   ]
  },
  {
   "cell_type": "markdown",
   "metadata": {
    "id": "TS1ZlkXTwTrU"
   },
   "source": [
    "# Inspect Data Again"
   ]
  },
  {
   "cell_type": "markdown",
   "metadata": {
    "id": "5bgG7Odrk1Wf"
   },
   "source": [
    "Re-inspect salient variables in the data after the preprocessing steps. Plot the distribution of age, race, and sex in the preprocessed data (```df_analysis```) and compare these distributions to the imported data (```df_compas```):"
   ]
  },
  {
   "cell_type": "code",
   "execution_count": 9,
   "metadata": {
    "id": "rf4Jdy6QwRAS"
   },
   "outputs": [
    {
     "data": {
      "image/png": "[encoded data removed]",
      "text/plain": [
       "<Figure size 432x288 with 1 Axes>"
      ]
     },
     "metadata": {
      "needs_background": "light"
     },
     "output_type": "display_data"
    },
    {
     "data": {
      "image/png": "[encoded data removed]",
      "text/plain": [
       "<Figure size 432x288 with 1 Axes>"
      ]
     },
     "metadata": {
      "needs_background": "light"
     },
     "output_type": "display_data"
    },
    {
     "data": {
      "image/png": "[encoded data removed]",
      "text/plain": [
       "<Figure size 432x288 with 1 Axes>"
      ]
     },
     "metadata": {
      "needs_background": "light"
     },
     "output_type": "display_data"
    }
   ],
   "source": [
    "# write code to plot the distribution of age, race, and sex in \n",
    "# the df_analysis data\n",
    "df_analysis['age'].hist()\n",
    "plt.xlabel('Age')\n",
    "plt.ylabel('Frequency')\n",
    "plt.show()\n",
    "\n",
    "df_analysis['race'].value_counts().plot(kind='bar')\n",
    "plt.xlabel('Race')\n",
    "plt.ylabel('Frequency')\n",
    "plt.show()\n",
    "\n",
    "df_analysis['sex'].value_counts().plot(kind='bar')\n",
    "plt.xlabel('Sex')\n",
    "plt.ylabel('Frequency')\n",
    "plt.show()"
   ]
  },
  {
   "cell_type": "markdown",
   "metadata": {
    "id": "RnlEcgYrwIkw"
   },
   "source": [
    "Observe that we are iterating through the data analysis: import, inspect & profile, preprocess, and profile again. Generate a crosstab summarizing the number of observations by race and sex:"
   ]
  },
  {
   "cell_type": "code",
   "execution_count": 10,
   "metadata": {
    "id": "sQnZbZDF162n"
   },
   "outputs": [
    {
     "data": {
      "text/html": [
       "<div>\n",
       "<style scoped>\n",
       "    .dataframe tbody tr th:only-of-type {\n",
       "        vertical-align: middle;\n",
       "    }\n",
       "\n",
       "    .dataframe tbody tr th {\n",
       "        vertical-align: top;\n",
       "    }\n",
       "\n",
       "    .dataframe thead th {\n",
       "        text-align: right;\n",
       "    }\n",
       "</style>\n",
       "<table border=\"1\" class=\"dataframe\">\n",
       "  <thead>\n",
       "    <tr style=\"text-align: right;\">\n",
       "      <th>sex</th>\n",
       "      <th>Female</th>\n",
       "      <th>Male</th>\n",
       "    </tr>\n",
       "    <tr>\n",
       "      <th>race</th>\n",
       "      <th></th>\n",
       "      <th></th>\n",
       "    </tr>\n",
       "  </thead>\n",
       "  <tbody>\n",
       "    <tr>\n",
       "      <th>African-American</th>\n",
       "      <td>549</td>\n",
       "      <td>2626</td>\n",
       "    </tr>\n",
       "    <tr>\n",
       "      <th>Asian</th>\n",
       "      <td>2</td>\n",
       "      <td>29</td>\n",
       "    </tr>\n",
       "    <tr>\n",
       "      <th>Caucasian</th>\n",
       "      <td>482</td>\n",
       "      <td>1621</td>\n",
       "    </tr>\n",
       "    <tr>\n",
       "      <th>Hispanic</th>\n",
       "      <td>82</td>\n",
       "      <td>427</td>\n",
       "    </tr>\n",
       "    <tr>\n",
       "      <th>Native American</th>\n",
       "      <td>2</td>\n",
       "      <td>9</td>\n",
       "    </tr>\n",
       "    <tr>\n",
       "      <th>Other</th>\n",
       "      <td>58</td>\n",
       "      <td>285</td>\n",
       "    </tr>\n",
       "  </tbody>\n",
       "</table>\n",
       "</div>"
      ],
      "text/plain": [
       "sex               Female  Male\n",
       "race                          \n",
       "African-American     549  2626\n",
       "Asian                  2    29\n",
       "Caucasian            482  1621\n",
       "Hispanic              82   427\n",
       "Native American        2     9\n",
       "Other                 58   285"
      ]
     },
     "execution_count": 10,
     "metadata": {},
     "output_type": "execute_result"
    }
   ],
   "source": [
    "# write code to generate a crosstab summarizing the number of observations by\n",
    "# race and sex (i.e. a pivot table) in this code cell\n",
    "pd.pivot_table(df_analysis, values='id', index='race', columns='sex', aggfunc='count')"
   ]
  },
  {
   "cell_type": "markdown",
   "metadata": {
    "id": "gxkyKFMP3Oxa"
   },
   "source": [
    "# Exploratory Analysis"
   ]
  },
  {
   "cell_type": "markdown",
   "metadata": {
    "id": "h9a0-JeX3Wmd"
   },
   "source": [
    "Let's turn our focus to the primary variable of interest: the COMPAS recidivism score. In this exploratory analysis, we are interested in the variable named \"decile_score\".\n",
    "\n",
    "The ProPublica analysis notes: \"Judges are often presented with two sets of scores from the COMPAS system: one that classifies people into high, medium or low risk, and a corresponding decile score.\"\n",
    "\n",
    "Plot the distribution of decile score for males and for females. To what extent do these distributions differ?"
   ]
  },
  {
   "cell_type": "code",
   "execution_count": 11,
   "metadata": {
    "colab": {
     "base_uri": "https://localhost:8080/",
     "height": 404
    },
    "id": "5ntoFh0w-1F3",
    "outputId": "968cb37c-e1c3-4951-f860-0579bcfc0887"
   },
   "outputs": [
    {
     "data": {
      "image/png": "[encoded data removed]",
      "text/plain": [
       "<Figure size 864x432 with 2 Axes>"
      ]
     },
     "metadata": {
      "needs_background": "light"
     },
     "output_type": "display_data"
    }
   ],
   "source": [
    "# plot score decile by sex\n",
    "df_female = df_analysis[(df_analysis.sex == \"Female\")].copy()\n",
    "df_male   = df_analysis[(df_analysis.sex == \"Male\")].copy()\n",
    "\n",
    "fig = plt.figure(figsize = (12, 6))\n",
    "fig.add_subplot(121)\n",
    "\n",
    "plt.hist(df_female[\"decile_score\"], ec = \"white\",\n",
    "         weights = np.ones(len(df_female[\"decile_score\"])) /\n",
    "         len(df_female[\"decile_score\"]))\n",
    "plt.xlabel(\"Decile Score (0-10)\")\n",
    "plt.ylabel(\"Percent of Cases\")\n",
    "plt.title(\"Female Defendant's Decile Scores\")\n",
    "plt.ylim([0, 0.25])\n",
    "\n",
    "fig.add_subplot(122)\n",
    "plt.hist(df_male[\"decile_score\"], ec = \"white\",\n",
    "         weights = np.ones(len(df_male[\"decile_score\"])) /\n",
    "         len(df_male[\"decile_score\"]))\n",
    "plt.xlabel(\"Decile Score (0-10)\")\n",
    "plt.ylabel(\"Percent of Cases\")\n",
    "plt.title(\"Male Defendant's Decile Scores\")\n",
    "plt.ylim([0, 0.25])\n",
    "\n",
    "plt.show()"
   ]
  },
  {
   "cell_type": "markdown",
   "metadata": {
    "id": "RDtwnIWk4O_P"
   },
   "source": [
    "What about race? Repeat the above plots for Black defendants and White defendants:"
   ]
  },
  {
   "cell_type": "code",
   "execution_count": 12,
   "metadata": {
    "id": "2QRK2jsM3Vvn"
   },
   "outputs": [
    {
     "data": {
      "image/png": "[encoded data removed]",
      "text/plain": [
       "<Figure size 864x432 with 2 Axes>"
      ]
     },
     "metadata": {
      "needs_background": "light"
     },
     "output_type": "display_data"
    }
   ],
   "source": [
    "# write code to plot \"decile_score\" for White and Black defendants\n",
    "# in this code cell\n",
    "df_black = df_analysis[(df_analysis.race == \"African-American\")].copy()\n",
    "df_white = df_analysis[(df_analysis.race == \"Caucasian\")].copy()\n",
    "\n",
    "fig = plt.figure(figsize = (12, 6))\n",
    "fig.add_subplot(121)\n",
    "\n",
    "plt.hist(df_black[\"decile_score\"], ec = \"white\",\n",
    "         weights = np.ones(len(df_black[\"decile_score\"])) /\n",
    "         len(df_black[\"decile_score\"]))\n",
    "plt.xlabel(\"Decile Score (0-10)\")\n",
    "plt.ylabel(\"Percent of Cases\")\n",
    "plt.title(\"African-American Defendant's Decile Scores\")\n",
    "plt.ylim([0, 0.3])\n",
    "\n",
    "fig.add_subplot(122)\n",
    "plt.hist(df_white[\"decile_score\"], ec = \"white\",\n",
    "         weights = np.ones(len(df_white[\"decile_score\"])) /\n",
    "         len(df_white[\"decile_score\"]))\n",
    "plt.xlabel(\"Decile Score (0-10)\")\n",
    "plt.ylabel(\"Percent of Cases\")\n",
    "plt.title(\"Caucasian Defendant's Decile Scores\")\n",
    "plt.ylim([0, 0.3])\n",
    "\n",
    "plt.show()"
   ]
  },
  {
   "cell_type": "markdown",
   "metadata": {
    "id": "2v4KvrqCNaqi"
   },
   "source": [
    "**Summarize the difference between the distribution of decile scores for Black defendants and White defendants in this text cell (three sentences maximum):**\n",
    "\n",
    "As seen in the graphs above, African-American defendants are much more likely to have a higher decile score than Caucasian defendants."
   ]
  },
  {
   "cell_type": "markdown",
   "metadata": {
    "id": "V1o9A7VlDWuo"
   },
   "source": [
    "Plot the distribution of COMPAS-assigned \"risk labels\" (the variable is named \"score_text\") for Black defendants and White defendants:"
   ]
  },
  {
   "cell_type": "code",
   "execution_count": 13,
   "metadata": {
    "id": "P3tnCwrbDvIe"
   },
   "outputs": [
    {
     "data": {
      "image/png": "[encoded data removed]",
      "text/plain": [
       "<Figure size 432x288 with 1 Axes>"
      ]
     },
     "metadata": {
      "needs_background": "light"
     },
     "output_type": "display_data"
    },
    {
     "data": {
      "image/png": "[encoded data removed]",
      "text/plain": [
       "<Figure size 432x288 with 1 Axes>"
      ]
     },
     "metadata": {
      "needs_background": "light"
     },
     "output_type": "display_data"
    }
   ],
   "source": [
    "# plot the distribution of \"score_text\" for White defendants and \n",
    "# Black defendants in this code cell\n",
    "df_black['score_text'].value_counts().plot(kind='bar')\n",
    "plt.xlabel('Risk Label')\n",
    "plt.ylabel('Frequency')\n",
    "plt.title(\"African-American Defendant's Risk Labels\")\n",
    "plt.show()\n",
    "\n",
    "df_white['score_text'].value_counts().plot(kind='bar')\n",
    "plt.xlabel('Risk Label')\n",
    "plt.ylabel('Frequency')\n",
    "plt.title(\"Caucasian Defendant's Decile Risk Labels\")\n",
    "plt.show()"
   ]
  },
  {
   "cell_type": "markdown",
   "metadata": {
    "id": "zfFXAqvNFFXi"
   },
   "source": [
    "# Bias in COMPAS"
   ]
  },
  {
   "cell_type": "markdown",
   "metadata": {
    "id": "7lcvC8rNFbYc"
   },
   "source": [
    "ProPublica focused on racial bias in the COMPAS algorithm. In general terms, ProPublica analyzed (i) how the *risk scores* vary by race and (ii) the extent to which the *risk labels* assigned to defendants matches up with their observed recidivism and how this varies by race. We will (approximately) reproduce this analysis below."
   ]
  },
  {
   "cell_type": "markdown",
   "metadata": {
    "id": "eOCIMREOQ7I0"
   },
   "source": [
    "## Preprocess Data for Logistic Regression\n",
    "\n",
    "ProPublica used a logistic regression model to analyze variation in the risk scores by race. We will prepare the data by one-hot encoding the categorical variables."
   ]
  },
  {
   "cell_type": "code",
   "execution_count": 14,
   "metadata": {
    "colab": {
     "base_uri": "https://localhost:8080/"
    },
    "id": "VqJLl5RfFIXR",
    "outputId": "f8fbf09d-eae1-4937-d41e-898d638c8d05"
   },
   "outputs": [
    {
     "name": "stdout",
     "output_type": "stream",
     "text": [
      "id                           int64\n",
      "age                          int64\n",
      "c_charge_degree             object\n",
      "race                        object\n",
      "age_cat                     object\n",
      "score_text                  object\n",
      "sex                         object\n",
      "priors_count                 int64\n",
      "days_b_screening_arrest    float64\n",
      "decile_score                 int64\n",
      "is_recid                     int64\n",
      "two_year_recid               int64\n",
      "dtype: object\n"
     ]
    }
   ],
   "source": [
    "print(df_analysis.dtypes)"
   ]
  },
  {
   "cell_type": "code",
   "execution_count": 15,
   "metadata": {
    "colab": {
     "base_uri": "https://localhost:8080/"
    },
    "id": "1VywniiqFugA",
    "outputId": "47b8ed4f-ca61-4d46-d334-64bb0b3ceb26"
   },
   "outputs": [
    {
     "name": "stdout",
     "output_type": "stream",
     "text": [
      "\n",
      "Variable c_charge_degree takes the values: ['F' 'M']\n",
      "\n",
      "Variable race takes the values: ['Other' 'African-American' 'Caucasian' 'Hispanic' 'Asian'\n",
      " 'Native American']\n",
      "\n",
      "Variable age_cat takes the values: ['Greater than 45' '25 - 45' 'Less than 25']\n",
      "\n",
      "Variable score_text takes the values: ['Low' 'Medium' 'High']\n",
      "\n",
      "Variable sex takes the values: ['Male' 'Female']\n"
     ]
    }
   ],
   "source": [
    "for i, col_type in enumerate(df_analysis.dtypes):\n",
    "    if col_type == \"object\":\n",
    "        print(\"\\nVariable {} takes the values: {}\".format(\n",
    "            df_analysis.columns[i],\n",
    "            df_analysis[df_analysis.columns[i]].unique()))"
   ]
  },
  {
   "cell_type": "code",
   "execution_count": 16,
   "metadata": {
    "id": "bbPi5iRYHZ64"
   },
   "outputs": [],
   "source": [
    "df_logistic = df_analysis.copy()\n",
    "\n",
    "# one-hot encoding\n",
    "df_logistic = pd.get_dummies(df_logistic,\n",
    "                             columns = [\"c_charge_degree\", \"race\",\n",
    "                                        \"age_cat\", \"sex\"])\n",
    "\n",
    "# mutate score_text to binary variable where low = {low}\n",
    "# and high = {medium, high}\n",
    "df_logistic[\"score_binary\"] = np.where(df_logistic[\"score_text\"] != \"Low\",\n",
    "                                       \"High\", \"Low\")\n",
    "df_logistic[\"score_binary\"] = df_logistic[\"score_binary\"].astype('category')\n",
    "\n",
    "# rename the columns to be more instructive and consistent with statsmodel\n",
    "# requirements for variable names\n",
    "df_logistic.columns = df_logistic.columns.str.replace(' ', '_')\n",
    "df_logistic.columns = df_logistic.columns.str.replace('-', '_')\n",
    "\n",
    "renamed_cols = {'age_cat_25___45':'age_cat_25_to_45',\n",
    "                'c_charge_degree_F':'Felony',\n",
    "                'c_charge_degree_M':'Misdemeanor'}\n",
    "\n",
    "df_logistic = df_logistic.rename(columns = renamed_cols)\n",
    "\n"
   ]
  },
  {
   "cell_type": "markdown",
   "metadata": {
    "id": "3BaOl-bMfU3q"
   },
   "source": [
    "Check that recoding resulted in the desired data structure:"
   ]
  },
  {
   "cell_type": "code",
   "execution_count": 17,
   "metadata": {
    "colab": {
     "base_uri": "https://localhost:8080/",
     "height": 268
    },
    "id": "7rAihNgrP3f7",
    "outputId": "4fedc4ec-75d1-441b-9970-2be233084bac"
   },
   "outputs": [
    {
     "data": {
      "text/html": [
       "<div>\n",
       "<style scoped>\n",
       "    .dataframe tbody tr th:only-of-type {\n",
       "        vertical-align: middle;\n",
       "    }\n",
       "\n",
       "    .dataframe tbody tr th {\n",
       "        vertical-align: top;\n",
       "    }\n",
       "\n",
       "    .dataframe thead th {\n",
       "        text-align: right;\n",
       "    }\n",
       "</style>\n",
       "<table border=\"1\" class=\"dataframe\">\n",
       "  <thead>\n",
       "    <tr style=\"text-align: right;\">\n",
       "      <th></th>\n",
       "      <th>id</th>\n",
       "      <th>age</th>\n",
       "      <th>score_text</th>\n",
       "      <th>priors_count</th>\n",
       "      <th>days_b_screening_arrest</th>\n",
       "      <th>decile_score</th>\n",
       "      <th>is_recid</th>\n",
       "      <th>two_year_recid</th>\n",
       "      <th>Felony</th>\n",
       "      <th>Misdemeanor</th>\n",
       "      <th>...</th>\n",
       "      <th>race_Caucasian</th>\n",
       "      <th>race_Hispanic</th>\n",
       "      <th>race_Native_American</th>\n",
       "      <th>race_Other</th>\n",
       "      <th>age_cat_25_to_45</th>\n",
       "      <th>age_cat_Greater_than_45</th>\n",
       "      <th>age_cat_Less_than_25</th>\n",
       "      <th>sex_Female</th>\n",
       "      <th>sex_Male</th>\n",
       "      <th>score_binary</th>\n",
       "    </tr>\n",
       "  </thead>\n",
       "  <tbody>\n",
       "    <tr>\n",
       "      <th>0</th>\n",
       "      <td>1</td>\n",
       "      <td>69</td>\n",
       "      <td>Low</td>\n",
       "      <td>0</td>\n",
       "      <td>-1.0</td>\n",
       "      <td>1</td>\n",
       "      <td>0</td>\n",
       "      <td>0</td>\n",
       "      <td>1</td>\n",
       "      <td>0</td>\n",
       "      <td>...</td>\n",
       "      <td>0</td>\n",
       "      <td>0</td>\n",
       "      <td>0</td>\n",
       "      <td>1</td>\n",
       "      <td>0</td>\n",
       "      <td>1</td>\n",
       "      <td>0</td>\n",
       "      <td>0</td>\n",
       "      <td>1</td>\n",
       "      <td>Low</td>\n",
       "    </tr>\n",
       "    <tr>\n",
       "      <th>1</th>\n",
       "      <td>3</td>\n",
       "      <td>34</td>\n",
       "      <td>Low</td>\n",
       "      <td>0</td>\n",
       "      <td>-1.0</td>\n",
       "      <td>3</td>\n",
       "      <td>1</td>\n",
       "      <td>1</td>\n",
       "      <td>1</td>\n",
       "      <td>0</td>\n",
       "      <td>...</td>\n",
       "      <td>0</td>\n",
       "      <td>0</td>\n",
       "      <td>0</td>\n",
       "      <td>0</td>\n",
       "      <td>1</td>\n",
       "      <td>0</td>\n",
       "      <td>0</td>\n",
       "      <td>0</td>\n",
       "      <td>1</td>\n",
       "      <td>Low</td>\n",
       "    </tr>\n",
       "    <tr>\n",
       "      <th>2</th>\n",
       "      <td>4</td>\n",
       "      <td>24</td>\n",
       "      <td>Low</td>\n",
       "      <td>4</td>\n",
       "      <td>-1.0</td>\n",
       "      <td>4</td>\n",
       "      <td>1</td>\n",
       "      <td>1</td>\n",
       "      <td>1</td>\n",
       "      <td>0</td>\n",
       "      <td>...</td>\n",
       "      <td>0</td>\n",
       "      <td>0</td>\n",
       "      <td>0</td>\n",
       "      <td>0</td>\n",
       "      <td>0</td>\n",
       "      <td>0</td>\n",
       "      <td>1</td>\n",
       "      <td>0</td>\n",
       "      <td>1</td>\n",
       "      <td>Low</td>\n",
       "    </tr>\n",
       "    <tr>\n",
       "      <th>5</th>\n",
       "      <td>7</td>\n",
       "      <td>44</td>\n",
       "      <td>Low</td>\n",
       "      <td>0</td>\n",
       "      <td>0.0</td>\n",
       "      <td>1</td>\n",
       "      <td>0</td>\n",
       "      <td>0</td>\n",
       "      <td>0</td>\n",
       "      <td>1</td>\n",
       "      <td>...</td>\n",
       "      <td>0</td>\n",
       "      <td>0</td>\n",
       "      <td>0</td>\n",
       "      <td>1</td>\n",
       "      <td>1</td>\n",
       "      <td>0</td>\n",
       "      <td>0</td>\n",
       "      <td>0</td>\n",
       "      <td>1</td>\n",
       "      <td>Low</td>\n",
       "    </tr>\n",
       "    <tr>\n",
       "      <th>6</th>\n",
       "      <td>8</td>\n",
       "      <td>41</td>\n",
       "      <td>Medium</td>\n",
       "      <td>14</td>\n",
       "      <td>-1.0</td>\n",
       "      <td>6</td>\n",
       "      <td>1</td>\n",
       "      <td>1</td>\n",
       "      <td>1</td>\n",
       "      <td>0</td>\n",
       "      <td>...</td>\n",
       "      <td>1</td>\n",
       "      <td>0</td>\n",
       "      <td>0</td>\n",
       "      <td>0</td>\n",
       "      <td>1</td>\n",
       "      <td>0</td>\n",
       "      <td>0</td>\n",
       "      <td>0</td>\n",
       "      <td>1</td>\n",
       "      <td>High</td>\n",
       "    </tr>\n",
       "  </tbody>\n",
       "</table>\n",
       "<p>5 rows × 22 columns</p>\n",
       "</div>"
      ],
      "text/plain": [
       "   id  age score_text  priors_count  days_b_screening_arrest  decile_score  \\\n",
       "0   1   69        Low             0                     -1.0             1   \n",
       "1   3   34        Low             0                     -1.0             3   \n",
       "2   4   24        Low             4                     -1.0             4   \n",
       "5   7   44        Low             0                      0.0             1   \n",
       "6   8   41     Medium            14                     -1.0             6   \n",
       "\n",
       "   is_recid  two_year_recid  Felony  Misdemeanor  ...  race_Caucasian  \\\n",
       "0         0               0       1            0  ...               0   \n",
       "1         1               1       1            0  ...               0   \n",
       "2         1               1       1            0  ...               0   \n",
       "5         0               0       0            1  ...               0   \n",
       "6         1               1       1            0  ...               1   \n",
       "\n",
       "   race_Hispanic  race_Native_American  race_Other  age_cat_25_to_45  \\\n",
       "0              0                     0           1                 0   \n",
       "1              0                     0           0                 1   \n",
       "2              0                     0           0                 0   \n",
       "5              0                     0           1                 1   \n",
       "6              0                     0           0                 1   \n",
       "\n",
       "   age_cat_Greater_than_45  age_cat_Less_than_25  sex_Female  sex_Male  \\\n",
       "0                        1                     0           0         1   \n",
       "1                        0                     0           0         1   \n",
       "2                        0                     1           0         1   \n",
       "5                        0                     0           0         1   \n",
       "6                        0                     0           0         1   \n",
       "\n",
       "   score_binary  \n",
       "0           Low  \n",
       "1           Low  \n",
       "2           Low  \n",
       "5           Low  \n",
       "6          High  \n",
       "\n",
       "[5 rows x 22 columns]"
      ]
     },
     "execution_count": 17,
     "metadata": {},
     "output_type": "execute_result"
    }
   ],
   "source": [
    "df_logistic.head()"
   ]
  },
  {
   "cell_type": "markdown",
   "metadata": {
    "id": "-NKIjUEgRHX6"
   },
   "source": [
    "## Estimate Logistic Regression Model\n",
    "\n",
    "Following ProPublica, we specify the following logistic regression model:"
   ]
  },
  {
   "cell_type": "code",
   "execution_count": 18,
   "metadata": {
    "colab": {
     "base_uri": "https://localhost:8080/"
    },
    "id": "Fd07D4i_MUjN",
    "outputId": "14be665b-ad09-4b4e-8de4-04bb40acf841"
   },
   "outputs": [
    {
     "name": "stdout",
     "output_type": "stream",
     "text": [
      "score_binary ~ priors_count + two_year_recid + Misdemeanor + age_cat_Greater_than_45 + age_cat_Less_than_25 + race_African_American + race_Asian + race_Hispanic + race_Native_American + race_Other + sex_Female\n"
     ]
    }
   ],
   "source": [
    "# Right-hand side\n",
    "explanatory = \"priors_count + two_year_recid + Misdemeanor + \\\n",
    "age_cat_Greater_than_45 + age_cat_Less_than_25 + \\\n",
    "race_African_American + race_Asian + race_Hispanic + race_Native_American + \\\n",
    "race_Other + sex_Female\"\n",
    "\n",
    "# Left-hand side\n",
    "response = \"score_binary\"\n",
    "\n",
    "# Formula\n",
    "formula = response + \" ~ \" + explanatory\n",
    "print(formula)"
   ]
  },
  {
   "cell_type": "markdown",
   "metadata": {
    "id": "h6Gk-XzAfz0d"
   },
   "source": [
    "Let's fit the model:"
   ]
  },
  {
   "cell_type": "code",
   "execution_count": 19,
   "metadata": {
    "colab": {
     "base_uri": "https://localhost:8080/"
    },
    "id": "SXGOejPiNk3E",
    "outputId": "59190e39-d4ec-411f-8c96-a362984eeea6"
   },
   "outputs": [
    {
     "name": "stdout",
     "output_type": "stream",
     "text": [
      "                              Generalized Linear Model Regression Results                              \n",
      "=======================================================================================================\n",
      "Dep. Variable:     ['score_binary[High]', 'score_binary[Low]']   No. Observations:                 6172\n",
      "Model:                                                     GLM   Df Residuals:                     6160\n",
      "Model Family:                                         Binomial   Df Model:                           11\n",
      "Link Function:                                           Logit   Scale:                          1.0000\n",
      "Method:                                                   IRLS   Log-Likelihood:                -3084.2\n",
      "Date:                                         Fri, 28 Jan 2022   Deviance:                       6168.4\n",
      "Time:                                                 23:56:54   Pearson chi2:                 6.07e+03\n",
      "No. Iterations:                                              6   Pseudo R-squ. (CS):             0.3128\n",
      "Covariance Type:                                     nonrobust                                         \n",
      "===========================================================================================\n",
      "                              coef    std err          z      P>|z|      [0.025      0.975]\n",
      "-------------------------------------------------------------------------------------------\n",
      "Intercept                  -1.5255      0.079    -19.430      0.000      -1.679      -1.372\n",
      "priors_count                0.2689      0.011     24.221      0.000       0.247       0.291\n",
      "two_year_recid              0.6859      0.064     10.713      0.000       0.560       0.811\n",
      "Misdemeanor                -0.3112      0.067     -4.677      0.000      -0.442      -0.181\n",
      "age_cat_Greater_than_45    -1.3556      0.099    -13.682      0.000      -1.550      -1.161\n",
      "age_cat_Less_than_25        1.3084      0.076     17.232      0.000       1.160       1.457\n",
      "race_African_American       0.4772      0.069      6.881      0.000       0.341       0.613\n",
      "race_Asian                 -0.2544      0.478     -0.532      0.595      -1.192       0.683\n",
      "race_Hispanic              -0.4284      0.128     -3.344      0.001      -0.680      -0.177\n",
      "race_Native_American        1.3942      0.766      1.820      0.069      -0.107       2.896\n",
      "race_Other                 -0.8263      0.162     -5.098      0.000      -1.144      -0.509\n",
      "sex_Female                  0.2213      0.080      2.783      0.005       0.065       0.377\n",
      "===========================================================================================\n"
     ]
    }
   ],
   "source": [
    "# Note: using family = sm.families.Binomial() specifies a logistic regression\n",
    "model = sm.formula.glm(formula = formula, \n",
    "                       family = sm.families.Binomial(),\n",
    "                       data = df_logistic).fit()\n",
    "\n",
    "print(model.summary())"
   ]
  },
  {
   "cell_type": "markdown",
   "metadata": {
    "id": "yJ7CaxsERKus"
   },
   "source": [
    "## Interpret Estimates"
   ]
  },
  {
   "cell_type": "markdown",
   "metadata": {
    "id": "TOE5Yi5dR6rG"
   },
   "source": [
    "Take a moment to read through the model summary. \n",
    "\n",
    "One way to interpret the estimates is by calculating odds ratios. To calculate odds ratios, we take the exponential of the coefficients. For example, taking the exponential of the coefficient for sex_Female ($\\beta_{female}$ = 0.2213) will return the odds of score_text taking the value \"high\" for a female relative to a male. Calculate this odds ratio here:\n",
    "\n"
   ]
  },
  {
   "cell_type": "code",
   "execution_count": 20,
   "metadata": {
    "id": "m-kJeX2TSu29"
   },
   "outputs": [
    {
     "name": "stdout",
     "output_type": "stream",
     "text": [
      "Female odds ratio: 1.247697683728402\n"
     ]
    }
   ],
   "source": [
    "# write code to calculate the odds for female defendants here\n",
    "print(f'Female odds ratio: {math.exp(0.2213)}')"
   ]
  },
  {
   "cell_type": "markdown",
   "metadata": {
    "id": "Zt01yUzKTzG_"
   },
   "source": [
    "In words, the odds that COMPAS labeled a defendant as \"high risk\" of recidivism is 1.25 times greater for a female than a male.\n",
    "\n",
    "Next, calculate the odds ratio for all of the coefficients in the model:"
   ]
  },
  {
   "cell_type": "code",
   "execution_count": 21,
   "metadata": {
    "id": "8nPb8HKJROFd"
   },
   "outputs": [
    {
     "name": "stdout",
     "output_type": "stream",
     "text": [
      "priors_count odds ratio: 1.3085242820754195\n",
      "two_year_recid odds ratio: 1.9855580338578191\n",
      "Misdemeanor odds ratio: 0.7325673477474592\n",
      "age_cat_Greater_than_45 odds ratio: 0.2577925724963829\n",
      "age_cat_Less_than_25 odds ratio: 3.7002485756439443\n",
      "African American odds ratio: 1.611555722969869\n",
      "Asian odds ratio: 0.7753815873727283\n",
      "Hispanic odds ratio: 0.6515507423707737\n",
      "Native American odds ratio: 4.031747883821712\n",
      "Race Other odds ratio: 0.4376656571228985\n",
      "Female odds ratio: 1.247697683728402\n"
     ]
    }
   ],
   "source": [
    "# write code to calculate the odds ratio for all variables in the \n",
    "# logistic regression model here\n",
    "print(f'priors_count odds ratio: {math.exp(0.2689)}')\n",
    "print(f'two_year_recid odds ratio: {math.exp(0.6859)}')\n",
    "print(f'Misdemeanor odds ratio: {math.exp(-0.3112)}')\n",
    "print(f'age_cat_Greater_than_45 odds ratio: {math.exp(-1.3556)}')\n",
    "print(f'age_cat_Less_than_25 odds ratio: {math.exp(1.3084)}')\n",
    "print(f'African American odds ratio: {math.exp(0.4772)}')\n",
    "print(f'Asian odds ratio: {math.exp(-0.2544)}')\n",
    "print(f'Hispanic odds ratio: {math.exp(-0.4284)}')\n",
    "print(f'Native American odds ratio: {math.exp(1.3942)}')\n",
    "print(f'Race Other odds ratio: {math.exp(-0.8263)}')\n",
    "print(f'Female odds ratio: {math.exp(0.2213)}')"
   ]
  },
  {
   "cell_type": "markdown",
   "metadata": {
    "id": "YRy_qGPaYj-r"
   },
   "source": [
    "Take a moment to read through these coefficients. What is the reference category for each variable? (e.g. For females, the reference category is male.) Think in terms of comparisons, for example:\n",
    "\n",
    "> A person with a value of [ &nbsp; &nbsp; ] on variable [ &nbsp; &nbsp; ] is [ &nbsp; &nbsp; ] times more likely to be labeled high risk compared to a person with a value of [ &nbsp; &nbsp; ] on variable [ &nbsp; &nbsp; ]\n",
    "\n",
    "In the female example above, this could be stated:\n",
    "\n",
    "> \"A person with a value of female on variable sex is 1.25 times more likely to be labeled high risk compared to a person with a value of male on variable sex\"\n",
    "\n",
    "Of course, we should be more straightforward when writing up results. \"A person with a value of male on variable sex\" is rather verbose; \"males\" will suffice. Interpreting model estimates in straightforward terms is an underrated skill.\n"
   ]
  },
  {
   "cell_type": "markdown",
   "metadata": {
    "id": "5dQBzQ5jSjPy"
   },
   "source": [
    "**Summarize the odds associated with the \"age_cat\" variable in this text cell (two sentences maximum):**\n",
    "\n",
    "A person of age greater than 45 is 0.26 times less likely to be labeled high risk compared to a person of age 25-45. A person of age less than 25 is 3.70 times more likely to be labeled high risk compared to a person of age 25-45."
   ]
  },
  {
   "cell_type": "markdown",
   "metadata": {
    "id": "jrTWMqP7Sytr"
   },
   "source": [
    "Before moving on, think about how the above estimates relate to the concepts of fairness introduced in Lecture 1. (Hint: To what extent do these findings about the assignment of risk labels in COMPAS relate to pre-existing bias, technical bias, and emergent bias). You are not required to write down your answer for completion of this notebook."
   ]
  },
  {
   "cell_type": "markdown",
   "metadata": {
    "id": "CvGGSeCqY-eN"
   },
   "source": [
    "## Predictive Accuracy\n",
    "\n",
    "In terms of fairness, ProPublica focused the predictive accuracy of the COMPAS algorithm. In this case, predictive accuracy refers to the concordance between a person's recidivism and the label assigned to that person by the COMPAS algorithm. For instance, how often did COMPAS predict that a person was at \"high risk\" of recidivism and that person in fact recidivated within two years? We can think of this in terms of a 2x2 table:\n",
    "\n",
    "|      | Did not recidivate | Recidivated   |\n",
    "| :---        |    :----:   |          ---: |\n",
    "| **Labeled high risk**  | A       | B   |\n",
    "| **Labeled low risk**   | C       | D      |\n",
    "\n",
    "ProPublica reported A and D for black defendants and white defendants, separately.\n",
    "\n",
    "What are generic terms for A and D? Why focus on A and D?"
   ]
  },
  {
   "cell_type": "markdown",
   "metadata": {
    "id": "mnVn3FqiLbL3"
   },
   "source": [
    "**Write your answer in this text cell:**\n",
    "\n",
    "A is the number of people who were labeled high risk but did not receive a new arrest within two years. D is the number of people who were labeled as low risk, but did receive a new arrest within two years. These values are reported separately and focused on for black and white populations because there is a suspected bias between these two groups. "
   ]
  },
  {
   "cell_type": "markdown",
   "metadata": {
    "id": "d5zVwL9M6yzk"
   },
   "source": [
    "ProPublica used a somewhat different data set to calculate the predictive accuracy of COMPAS. In this section we will use the ```df_logistic``` data we preprocessed above for brevity. Note therefore that the numbers we calculate below will not match those reported by ProPublica. Let's generate a crosstab of the variable denoting recidivism within two years (```is_recid```) and the binary score variable (```score_binary```):"
   ]
  },
  {
   "cell_type": "code",
   "execution_count": 22,
   "metadata": {
    "colab": {
     "base_uri": "https://localhost:8080/",
     "height": 159
    },
    "id": "JpluSwppZFUe",
    "outputId": "ae4032e1-0a6b-4d8e-c25e-f8c9a40b985c"
   },
   "outputs": [
    {
     "name": "stdout",
     "output_type": "stream",
     "text": [
      "All defendants\n"
     ]
    },
    {
     "data": {
      "text/html": [
       "<div>\n",
       "<style scoped>\n",
       "    .dataframe tbody tr th:only-of-type {\n",
       "        vertical-align: middle;\n",
       "    }\n",
       "\n",
       "    .dataframe tbody tr th {\n",
       "        vertical-align: top;\n",
       "    }\n",
       "\n",
       "    .dataframe thead th {\n",
       "        text-align: right;\n",
       "    }\n",
       "</style>\n",
       "<table border=\"1\" class=\"dataframe\">\n",
       "  <thead>\n",
       "    <tr style=\"text-align: right;\">\n",
       "      <th>is_recid</th>\n",
       "      <th>0</th>\n",
       "      <th>1</th>\n",
       "    </tr>\n",
       "    <tr>\n",
       "      <th>score_binary</th>\n",
       "      <th></th>\n",
       "      <th></th>\n",
       "    </tr>\n",
       "  </thead>\n",
       "  <tbody>\n",
       "    <tr>\n",
       "      <th>High</th>\n",
       "      <td>934</td>\n",
       "      <td>1817</td>\n",
       "    </tr>\n",
       "    <tr>\n",
       "      <th>Low</th>\n",
       "      <td>2248</td>\n",
       "      <td>1173</td>\n",
       "    </tr>\n",
       "  </tbody>\n",
       "</table>\n",
       "</div>"
      ],
      "text/plain": [
       "is_recid         0     1\n",
       "score_binary            \n",
       "High           934  1817\n",
       "Low           2248  1173"
      ]
     },
     "execution_count": 22,
     "metadata": {},
     "output_type": "execute_result"
    }
   ],
   "source": [
    "print(\"All defendants\")\n",
    "pd.crosstab(df_logistic[\"score_binary\"], df_logistic[\"is_recid\"])"
   ]
  },
  {
   "cell_type": "markdown",
   "metadata": {
    "id": "kojOZPLybCSv"
   },
   "source": [
    "Based on this crosstab, input the number of true positives, false positives, \n",
    "true negatives, and false negatives:"
   ]
  },
  {
   "cell_type": "code",
   "execution_count": 23,
   "metadata": {
    "id": "D3Av4Eu0ZjFN"
   },
   "outputs": [],
   "source": [
    "true_positive  = 1817#@param {type:\"number\"}\n",
    "false_positive = 934#@param {type:\"number\"}\n",
    "true_negative  = 2248#@param {type:\"number\"}\n",
    "false_negative = 1173#@param {type:\"number\"}"
   ]
  },
  {
   "cell_type": "markdown",
   "metadata": {
    "id": "pOKUOXBh6rh0"
   },
   "source": [
    "You can calculate the false positive rate by taking FP / (FP + TN), where FP is the number of false positives and TN is the number of true negatives. Calculate the false positive rate:\n",
    "\n"
   ]
  },
  {
   "cell_type": "code",
   "execution_count": 24,
   "metadata": {
    "id": "VrkCFBzAZa2R"
   },
   "outputs": [
    {
     "name": "stdout",
     "output_type": "stream",
     "text": [
      "0.29352608422375864\n"
     ]
    }
   ],
   "source": [
    "# write code to calculate the false positive rate for all defendants\n",
    "# in this code cell\n",
    "print(false_positive / (false_positive + true_negative))"
   ]
  },
  {
   "cell_type": "markdown",
   "metadata": {
    "id": "WgmNak0ob2C8"
   },
   "source": [
    "Now calculate the false *negative* rate: (hint, replace the terms in the false positive rate formula in the previous text cell)"
   ]
  },
  {
   "cell_type": "code",
   "execution_count": 25,
   "metadata": {
    "id": "46bwGfLba3ij"
   },
   "outputs": [
    {
     "name": "stdout",
     "output_type": "stream",
     "text": [
      "0.3923076923076923\n"
     ]
    }
   ],
   "source": [
    "# write code to calculate the false negative rate for all defendants\n",
    "# in this code cell\n",
    "print(false_negative / (false_negative + true_positive))"
   ]
  },
  {
   "cell_type": "markdown",
   "metadata": {
    "id": "G1LBhe-f-TTn"
   },
   "source": [
    "How do the false positive and false negative rates vary by sex? Let's generate a crosstab of \"score_binary\" and \"is_recid\" for female defendants:"
   ]
  },
  {
   "cell_type": "code",
   "execution_count": 26,
   "metadata": {
    "colab": {
     "base_uri": "https://localhost:8080/"
    },
    "id": "LI3i9zzt-kMG",
    "outputId": "11762e6e-2cd4-4187-868b-efdd27524a3e"
   },
   "outputs": [
    {
     "name": "stdout",
     "output_type": "stream",
     "text": [
      "is_recid        0    1\n",
      "score_binary          \n",
      "High          220  256\n",
      "Low           520  179\n",
      "Female defendants\n"
     ]
    }
   ],
   "source": [
    "mask = df_logistic[\"sex_Female\"] == 1\n",
    "print(pd.crosstab(df_logistic.loc[mask, \"score_binary\"],\n",
    "                  df_logistic.loc[mask, \"is_recid\"]))\n",
    "print(\"Female defendants\")"
   ]
  },
  {
   "cell_type": "markdown",
   "metadata": {
    "id": "TFmpimkjZbVJ"
   },
   "source": [
    "Based on this crosstab, calculate the false positive and false negative rates for females:"
   ]
  },
  {
   "cell_type": "code",
   "execution_count": 27,
   "metadata": {
    "id": "8tzBrFZKb4UI"
   },
   "outputs": [
    {
     "name": "stdout",
     "output_type": "stream",
     "text": [
      "false positive rate: 0.2972972972972973\n",
      "false negative rate: 0.4114942528735632\n"
     ]
    }
   ],
   "source": [
    "# write code to calculate the false positive rate and false negative rate for\n",
    "# female defendants in this code cell\n",
    "true_positive  = 256#@param {type:\"number\"}\n",
    "false_positive = 220#@param {type:\"number\"}\n",
    "true_negative  = 520#@param {type:\"number\"}\n",
    "false_negative = 179#@param {type:\"number\"}\n",
    "\n",
    "print(f'false positive rate: {false_positive / (false_positive + true_negative)}')\n",
    "print(f'false negative rate: {false_negative / (false_negative + true_positive)}')"
   ]
  },
  {
   "cell_type": "markdown",
   "metadata": {
    "id": "MYowpvPWcooI"
   },
   "source": [
    "Now repeat the process and calculate the false positive rate and false negative rate for male defendants:"
   ]
  },
  {
   "cell_type": "code",
   "execution_count": 28,
   "metadata": {
    "id": "dlxlpA9SARFT"
   },
   "outputs": [
    {
     "name": "stdout",
     "output_type": "stream",
     "text": [
      "is_recid         0     1\n",
      "score_binary            \n",
      "High           714  1561\n",
      "Low           1728   994\n",
      "Male defendants\n"
     ]
    }
   ],
   "source": [
    "# write code to generate a crosstab for male defendants in this code cell\n",
    "mask = df_logistic[\"sex_Female\"] == 0\n",
    "print(pd.crosstab(df_logistic.loc[mask, \"score_binary\"],\n",
    "                  df_logistic.loc[mask, \"is_recid\"]))\n",
    "print(\"Male defendants\")"
   ]
  },
  {
   "cell_type": "code",
   "execution_count": 29,
   "metadata": {
    "id": "Yexu8ZUIb78V"
   },
   "outputs": [
    {
     "name": "stdout",
     "output_type": "stream",
     "text": [
      "false positive rate: 0.29238329238329236\n",
      "false negative rate: 0.38904109589041097\n"
     ]
    }
   ],
   "source": [
    "# write code to calculate the false positive rate and false negative rate for\n",
    "# male defendants in this code cell\n",
    "true_positive  = 1561#@param {type:\"number\"}\n",
    "false_positive = 714#@param {type:\"number\"}\n",
    "true_negative  = 1728#@param {type:\"number\"}\n",
    "false_negative = 994#@param {type:\"number\"}\n",
    "\n",
    "print(f'false positive rate: {false_positive / (false_positive + true_negative)}')\n",
    "print(f'false negative rate: {false_negative / (false_negative + true_positive)}')"
   ]
  },
  {
   "cell_type": "markdown",
   "metadata": {
    "id": "0Y3odoqE-g0y"
   },
   "source": [
    "How do the false positive and false negative rates vary by race? Calculate the false positive rate and false negative rate for White defendants:"
   ]
  },
  {
   "cell_type": "code",
   "execution_count": 30,
   "metadata": {
    "id": "_0-offlbBQTy"
   },
   "outputs": [
    {
     "name": "stdout",
     "output_type": "stream",
     "text": [
      "is_recid        0    1\n",
      "score_binary          \n",
      "High          266  430\n",
      "Low           963  444\n",
      "White defendants\n"
     ]
    }
   ],
   "source": [
    "# write code to generate a crosstab for White defendants in this code cell\n",
    "mask = df_logistic[\"race_Caucasian\"] == 1\n",
    "print(pd.crosstab(df_logistic.loc[mask, \"score_binary\"],\n",
    "                  df_logistic.loc[mask, \"is_recid\"]))\n",
    "print(\"White defendants\")"
   ]
  },
  {
   "cell_type": "code",
   "execution_count": 31,
   "metadata": {
    "id": "OZ3qx2aGcGxm"
   },
   "outputs": [
    {
     "name": "stdout",
     "output_type": "stream",
     "text": [
      "false positive rate: 0.1900756938603869\n",
      "false negative rate: 0.5080091533180778\n"
     ]
    }
   ],
   "source": [
    "# write code to calculate the false positive rate and false negative rate for\n",
    "# White defendants in this code cell\n",
    "true_positive  = 430#@param {type:\"number\"}\n",
    "false_positive = 226#@param {type:\"number\"}\n",
    "true_negative  = 963#@param {type:\"number\"}\n",
    "false_negative = 444#@param {type:\"number\"}\n",
    "\n",
    "print(f'false positive rate: {false_positive / (false_positive + true_negative)}')\n",
    "print(f'false negative rate: {false_negative / (false_negative + true_positive)}')"
   ]
  },
  {
   "cell_type": "markdown",
   "metadata": {
    "id": "GU0ft0TSe_1m"
   },
   "source": [
    "Lastly, calculate the false positive rate and false negative rate for Black defendants:"
   ]
  },
  {
   "cell_type": "code",
   "execution_count": 32,
   "metadata": {
    "id": "HUU_w57EfEDk"
   },
   "outputs": [
    {
     "name": "stdout",
     "output_type": "stream",
     "text": [
      "is_recid        0     1\n",
      "score_binary           \n",
      "High          581  1248\n",
      "Low           821   525\n",
      "Black defendants\n"
     ]
    }
   ],
   "source": [
    "# write code to generate a crosstab for Black defendants in this code cell\n",
    "mask = df_logistic[\"race_African_American\"] == 1\n",
    "print(pd.crosstab(df_logistic.loc[mask, \"score_binary\"],\n",
    "                  df_logistic.loc[mask, \"is_recid\"]))\n",
    "print(\"Black defendants\")"
   ]
  },
  {
   "cell_type": "code",
   "execution_count": 33,
   "metadata": {
    "id": "kasSRZjkcYET"
   },
   "outputs": [
    {
     "name": "stdout",
     "output_type": "stream",
     "text": [
      "false positive rate: 0.4144079885877318\n",
      "false negative rate: 0.2961082910321489\n"
     ]
    }
   ],
   "source": [
    "# write code to calculate the false positive rate and false negative rate for\n",
    "# Black defendnats in this code cell\n",
    "true_positive  = 1248#@param {type:\"number\"}\n",
    "false_positive = 581#@param {type:\"number\"}\n",
    "true_negative  = 821#@param {type:\"number\"}\n",
    "false_negative = 525#@param {type:\"number\"}\n",
    "\n",
    "print(f'false positive rate: {false_positive / (false_positive + true_negative)}')\n",
    "print(f'false negative rate: {false_negative / (false_negative + true_positive)}')"
   ]
  },
  {
   "cell_type": "markdown",
   "metadata": {
    "id": "w6jHN6nWcP3X"
   },
   "source": [
    "Take a moment to review and compare the false positive rates and false negative rates above. Consider how these rates relate to the concepts of fairness you've encountered in the reading material and Lecture 1. You may write this in a text cell below but it is not required for the completion of your notebook."
   ]
  },
  {
   "cell_type": "markdown",
   "metadata": {
    "id": "06n4G0ShMTWY"
   },
   "source": [
    "# Submitting this Lab Notebook\n",
    "\n",
    "Once complete, please submit your lab notebook as an attachment under \"Assignments > Lab 1\" on Brightspace. You can download a copy of your notebook using ```File > Download .ipynb```. Please ensure you submit the `.ipynb` file (and not a `.py` file)."
   ]
  }
 ],
 "metadata": {
  "colab": {
   "collapsed_sections": [
    "355LmyCRd_sZ",
    "JI0slRqXFyXZ",
    "06n4G0ShMTWY"
   ],
   "include_colab_link": true,
   "name": "lab_1",
   "provenance": []
  },
  "kernelspec": {
   "display_name": "Python 3 (ipykernel)",
   "language": "python",
   "name": "python3"
  },
  "language_info": {
   "codemirror_mode": {
    "name": "ipython",
    "version": 3
   },
   "file_extension": ".py",
   "mimetype": "text/x-python",
   "name": "python",
   "nbconvert_exporter": "python",
   "pygments_lexer": "ipython3",
   "version": "3.8.10"
  }
 },
 "nbformat": 4,
 "nbformat_minor": 1
}
